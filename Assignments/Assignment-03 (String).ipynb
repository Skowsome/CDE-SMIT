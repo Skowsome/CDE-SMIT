{
 "cells": [
  {
   "cell_type": "markdown",
   "id": "ebd04548-866b-422a-ade5-0406b8793dfc",
   "metadata": {},
   "source": [
    "<center><h1>Assignment No 03 (Strings)</h1></center>"
   ]
  },
  {
   "cell_type": "markdown",
   "id": "7d7a9eed-a88c-4487-a87d-ae655c532686",
   "metadata": {},
   "source": [
    "1. Write a program that accepts a string from user. Your program should count and display number of vowels in that string"
   ]
  },
  {
   "cell_type": "code",
   "execution_count": 3,
   "id": "fb4ba224-3588-4077-9600-5c794c52b158",
   "metadata": {},
   "outputs": [
    {
     "name": "stdin",
     "output_type": "stream",
     "text": [
      "Enter a string or sentence:  My name is khan.\n"
     ]
    },
    {
     "name": "stdout",
     "output_type": "stream",
     "text": [
      "Number of vowels in the string: 4\n"
     ]
    }
   ],
   "source": [
    "# Function to count vowels in a string\n",
    "def count_vowels(s):\n",
    "    vowels = \"aeiouAEIOU\"\n",
    "    count = sum(1 for char in s if char in vowels)\n",
    "    return count\n",
    "\n",
    "# Accept input from user\n",
    "user_input = input(\"Enter a string or sentence: \")\n",
    "\n",
    "# Count and display the number of vowels\n",
    "vowel_count = count_vowels(user_input)\n",
    "print(f\"Number of vowels in the string: {vowel_count}\")"
   ]
  },
  {
   "cell_type": "markdown",
   "id": "710ebaa4-0d54-4324-95c7-4da66c541c07",
   "metadata": {},
   "source": [
    "2. Write a program that reads a string from keyboard and display: \n",
    "* The number of uppercase letters in the string \n",
    "* The number of lowercase letters in the string \n",
    "* The number of digits in the string \n",
    "* The number of whitespace characters in the string"
   ]
  },
  {
   "cell_type": "code",
   "execution_count": 5,
   "id": "63844053-2574-4346-930e-2c2450382028",
   "metadata": {},
   "outputs": [
    {
     "name": "stdin",
     "output_type": "stream",
     "text": [
      "Enter a string:  My name is khan, what is your name dear?\n"
     ]
    },
    {
     "name": "stdout",
     "output_type": "stream",
     "text": [
      "Number of uppercase letters: 1\n",
      "Number of lowercase letters: 29\n",
      "Number of digits: 0\n",
      "Number of whitespace characters: 8\n"
     ]
    }
   ],
   "source": [
    "# Function to count different types of characters\n",
    "def count_chars(s):\n",
    "    uppercase = sum(1 for char in s if char.isupper())\n",
    "    lowercase = sum(1 for char in s if char.islower())\n",
    "    digits = sum(1 for char in s if char.isdigit())\n",
    "    whitespace = sum(1 for char in s if char.isspace())\n",
    "\n",
    "    return uppercase, lowercase, digits, whitespace\n",
    "\n",
    "# Accept input from user\n",
    "user_input = input(\"Enter a string: \")\n",
    "\n",
    "# Get the counts\n",
    "uppercase_count, lowercase_count, digit_count, whitespace_count = count_chars(user_input)\n",
    "\n",
    "# Display results\n",
    "print(f\"Number of uppercase letters: {uppercase_count}\")\n",
    "print(f\"Number of lowercase letters: {lowercase_count}\")\n",
    "print(f\"Number of digits: {digit_count}\")\n",
    "print(f\"Number of whitespace characters: {whitespace_count}\")"
   ]
  },
  {
   "cell_type": "markdown",
   "id": "7af1bd4a-c15b-4ebf-89ab-456b090fa251",
   "metadata": {},
   "source": [
    "3. Write a Python program that accepts a string from user. Your program should create and display a new string where the first and last characters have been exchanged.\n",
    "   For example if the user enters the string 'HELLO' then new string would be 'OELLH"
   ]
  },
  {
   "cell_type": "code",
   "execution_count": 7,
   "id": "66c930ee-1bcf-4bc1-a4e3-9a724eb423f8",
   "metadata": {},
   "outputs": [
    {
     "name": "stdin",
     "output_type": "stream",
     "text": [
      "Enter a string:  Hello World!\n"
     ]
    },
    {
     "name": "stdout",
     "output_type": "stream",
     "text": [
      "New string after swapping first and last characters: !ello WorldH\n"
     ]
    }
   ],
   "source": [
    "# Function to swap first and last characters\n",
    "def swap_first_last(s):\n",
    "    if len(s) <= 1:\n",
    "        return s\n",
    "    return s[-1] + s[1:-1] + s[0]\n",
    "\n",
    "# Accept input from user\n",
    "user_input = input(\"Enter a string: \")\n",
    "\n",
    "# Swap characters and display the new string\n",
    "swapped_string = swap_first_last(user_input)\n",
    "print(f\"New string after swapping first and last characters: {swapped_string}\")"
   ]
  },
  {
   "cell_type": "markdown",
   "id": "6c54009e-2773-4e2f-91ee-7a9c47825178",
   "metadata": {},
   "source": [
    "4. Write a Python program that accepts a string from user. Your program should create a new string in reverse of first string and display it.\n",
    "   For example if the user enters the string 'EXAM' then new string would be 'MAXE"
   ]
  },
  {
   "cell_type": "code",
   "execution_count": 16,
   "id": "80e4b27f-ae5e-4daf-a8a0-098eb30061c6",
   "metadata": {},
   "outputs": [
    {
     "name": "stdin",
     "output_type": "stream",
     "text": [
      "Enter a string:  HELLO\n"
     ]
    },
    {
     "name": "stdout",
     "output_type": "stream",
     "text": [
      "Reversed string: OLLEH\n"
     ]
    }
   ],
   "source": [
    "# Function to reverse a string\n",
    "def reverse_string(s):\n",
    "    return s[::-1]  # Slicing method to reverse the string\n",
    "\n",
    "# Accept input from user\n",
    "user_input = input(\"Enter a string: \")\n",
    "\n",
    "# Reverse the string and display it\n",
    "reversed_string = reverse_string(user_input)\n",
    "print(f\"Reversed string: {reversed_string}\")"
   ]
  },
  {
   "cell_type": "markdown",
   "id": "867c56c9-ac5f-4da8-93cf-f1c5f31bbc83",
   "metadata": {},
   "source": [
    "5. Write a Python program that accepts a string from user. Your program should create a new string by \n",
    "shifting one position to left. \n",
    "For example if the user enters the string 'examination 2021' then new string would be 'xamination \n",
    "2021e'"
   ]
  },
  {
   "cell_type": "code",
   "execution_count": 23,
   "id": "590603d3-1042-40f8-9f3c-360d9458c20c",
   "metadata": {},
   "outputs": [
    {
     "name": "stdin",
     "output_type": "stream",
     "text": [
      "Enter a string or sentence:  Hello World... How are you\n"
     ]
    },
    {
     "name": "stdout",
     "output_type": "stream",
     "text": [
      "New string after shifting left: ello World... How are youH\n"
     ]
    }
   ],
   "source": [
    "# Function to shift string left by one position\n",
    "def shift_left(s):\n",
    "    if len(s) <= 1:\n",
    "        return s  # If the string is empty or has one character, return as is\n",
    "    return s[1:] + s[0]  # Move first character to the end\n",
    "\n",
    "# Accept input from user\n",
    "user_input = input(\"Enter a string or sentence: \")\n",
    "\n",
    "# Shift the string and display the result\n",
    "shifted_string = shift_left(user_input)\n",
    "print(f\"New string after shifting left: {shifted_string}\")"
   ]
  },
  {
   "cell_type": "markdown",
   "id": "a81a9b47-cbc9-4e9b-a049-aaceca632448",
   "metadata": {},
   "source": [
    "6. Write a program that asks the user to input his name and print its initials. Assuming that the user always types first name, middle name and last name and does not include any unnecessary spaces. \n",
    "For example, if the user enters Ajay Kumar Garg the program should display A. K. G. \n",
    "Note:Don't use split() method"
   ]
  },
  {
   "cell_type": "code",
   "execution_count": 26,
   "id": "96dc9645-c080-44e6-afa0-19850f8693ae",
   "metadata": {},
   "outputs": [
    {
     "name": "stdin",
     "output_type": "stream",
     "text": [
      "Enter your full name (First Middle Last):  Abdul Saboor Khan\n"
     ]
    },
    {
     "name": "stdout",
     "output_type": "stream",
     "text": [
      "Initials: A. S. K.\n"
     ]
    }
   ],
   "source": [
    "# Function to extract initials\n",
    "def get_initials(name):\n",
    "    initials = \"\"\n",
    "    take_next = True  # Flag to track when to take a character as an initial\n",
    "\n",
    "    for char in name:\n",
    "        if take_next:  # If it's the start of a name part, take the letter as an initial\n",
    "            initials += char.upper() + \". \"\n",
    "        take_next = (char == \" \")  # Set flag to True when a space is found\n",
    "\n",
    "    return initials.strip()  # Remove trailing space\n",
    "\n",
    "# Accept input from user\n",
    "user_name = input(\"Enter your full name (First Middle Last): \")\n",
    "\n",
    "# Get and display initials\n",
    "initials = get_initials(user_name)\n",
    "print(f\"Initials: {initials}\")"
   ]
  },
  {
   "cell_type": "markdown",
   "id": "9ef05d7c-ea08-4aba-a751-f8863156a6c1",
   "metadata": {},
   "source": [
    "7. A palindrome is a string that reads the same backward as forward. For example, the words dad, madam and radar are all palindromes. Write a programs that determines whether the string is a palindrome. \n",
    "Note: do not use reverse() method"
   ]
  },
  {
   "cell_type": "code",
   "execution_count": 29,
   "id": "a975e464-a6ef-4177-9f1d-ab439f14b912",
   "metadata": {},
   "outputs": [
    {
     "name": "stdin",
     "output_type": "stream",
     "text": [
      "Enter a string:  Madam\n"
     ]
    },
    {
     "name": "stdout",
     "output_type": "stream",
     "text": [
      "The string is a palindrome.\n"
     ]
    }
   ],
   "source": [
    "# Function to check if a string is a palindrome\n",
    "def is_palindrome(s):\n",
    "    s = s.lower()  # Convert to lowercase for case insensitivity\n",
    "    length = len(s)\n",
    "    \n",
    "    for i in range(length // 2):  # Compare characters from start and end\n",
    "        if s[i] != s[length - i - 1]:\n",
    "            return False\n",
    "    return True\n",
    "\n",
    "# Accept input from user\n",
    "user_input = input(\"Enter a string: \")\n",
    "\n",
    "# Check if it's a palindrome and display result\n",
    "if is_palindrome(user_input):\n",
    "    print(\"The string is a palindrome.\")\n",
    "else:\n",
    "    print(\"The string is not a palindrome.\")"
   ]
  },
  {
   "cell_type": "markdown",
   "id": "2caf12db-09b3-44ce-aee9-000e998ca094",
   "metadata": {},
   "source": [
    "8. Write a program that display following output:\n",
    "   SHIFT\n",
    "   HIFTS\n",
    "   IFTSH\n",
    "   FTSHI\n",
    "   TSHIF\n",
    "   SHIFT"
   ]
  },
  {
   "cell_type": "code",
   "execution_count": 33,
   "id": "ca2f896b-284c-4800-bfa9-5b0341fd458d",
   "metadata": {},
   "outputs": [
    {
     "name": "stdout",
     "output_type": "stream",
     "text": [
      "SHIFT\n",
      "HIFTS\n",
      "IFTSH\n",
      "FTSHI\n",
      "TSHIF\n"
     ]
    }
   ],
   "source": [
    "# Function to generate shifting pattern\n",
    "def shift_pattern(s):\n",
    "    length = len(s)\n",
    "    for i in range(length):\n",
    "        print(s[i:] + s[:i])  # Shift string by slicing\n",
    "\n",
    "# Define the string\n",
    "word = \"SHIFT\"\n",
    "\n",
    "# Display the shifting pattern\n",
    "shift_pattern(word)"
   ]
  },
  {
   "cell_type": "markdown",
   "id": "39dbb508-38fd-4bbe-8a4e-e8142e29b74c",
   "metadata": {},
   "source": [
    "9. Write a program in python that accepts a string to setup a passwords. Your entered password must \n",
    "meet the following requirements: \n",
    "The password must be at least eight characters long. \n",
    "It must contain at least one uppercase letter. \n",
    "It must contain at least one lowercase letter. \n",
    "It must contain at least one numeric digit. \n",
    "Your program should should perform this validation."
   ]
  },
  {
   "cell_type": "code",
   "execution_count": 38,
   "id": "d22918c3-de97-444a-992d-b47429fd717b",
   "metadata": {},
   "outputs": [
    {
     "name": "stdin",
     "output_type": "stream",
     "text": [
      "Enter your password:  Abdulsaboor123++\n"
     ]
    },
    {
     "name": "stdout",
     "output_type": "stream",
     "text": [
      "Password is valid.\n"
     ]
    }
   ],
   "source": [
    "# Function to validate password\n",
    "def is_valid_password(password):\n",
    "    if len(password) < 8:\n",
    "        return \"Password must be at least 8 characters long.\"\n",
    "    \n",
    "    has_upper = False\n",
    "    has_lower = False\n",
    "    has_digit = False\n",
    "\n",
    "    for char in password:\n",
    "        if char.isupper():\n",
    "            has_upper = True\n",
    "        if char.islower():\n",
    "            has_lower = True\n",
    "        if char.isdigit():\n",
    "            has_digit = True\n",
    "\n",
    "    if not has_upper:\n",
    "        return \"Password must contain at least one uppercase letter.\"\n",
    "    if not has_lower:\n",
    "        return \"Password must contain at least one lowercase letter.\"\n",
    "    if not has_digit:\n",
    "        return \"Password must contain at least one numeric digit.\"\n",
    "\n",
    "    return \"Password is valid.\"\n",
    "\n",
    "# Accept input from user\n",
    "user_password = input(\"Enter your password: \")\n",
    "\n",
    "# Validate the password and display the result\n",
    "print(is_valid_password(user_password))"
   ]
  }
 ],
 "metadata": {
  "kernelspec": {
   "display_name": "Python [conda env:base] *",
   "language": "python",
   "name": "conda-base-py"
  },
  "language_info": {
   "codemirror_mode": {
    "name": "ipython",
    "version": 3
   },
   "file_extension": ".py",
   "mimetype": "text/x-python",
   "name": "python",
   "nbconvert_exporter": "python",
   "pygments_lexer": "ipython3",
   "version": "3.12.7"
  }
 },
 "nbformat": 4,
 "nbformat_minor": 5
}
